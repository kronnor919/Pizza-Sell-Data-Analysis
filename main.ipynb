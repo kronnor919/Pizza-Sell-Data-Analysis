{
 "cells": [
  {
   "cell_type": "markdown",
   "id": "261dc332",
   "metadata": {},
   "source": [
    "### Configurar advertencias"
   ]
  },
  {
   "cell_type": "markdown",
   "id": "463b0aef",
   "metadata": {},
   "source": [
    "Para evitar que salgan advertencias de futuras versiones que no nos interesan"
   ]
  },
  {
   "cell_type": "code",
   "execution_count": 2,
   "id": "68ea7e41",
   "metadata": {},
   "outputs": [],
   "source": [
    "import warnings\n",
    "warnings.filterwarnings('ignore', category=FutureWarning)"
   ]
  },
  {
   "cell_type": "markdown",
   "id": "4e071a4a",
   "metadata": {},
   "source": [
    "### Cargar datos"
   ]
  },
  {
   "cell_type": "markdown",
   "id": "27f8941f",
   "metadata": {},
   "source": [
    "Vamos a crear una funcion para cargar los datos a un dataframe usando pandas. Un proceso extremadamente sencillo"
   ]
  },
  {
   "cell_type": "code",
   "execution_count": 4,
   "id": "5e13b5d6",
   "metadata": {},
   "outputs": [],
   "source": [
    "import pandas as pd\n",
    "\n",
    "def load_data(url: str) -> pd.DataFrame | None:\n",
    "    try:\n",
    "        return pd.read_excel(url)\n",
    "    except Exception as err:\n",
    "        print(err)\n",
    "        return"
   ]
  },
  {
   "cell_type": "markdown",
   "id": "2ba5b380",
   "metadata": {},
   "source": [
    "Si la funcion logra cargar los datos, seran retornados en un Dataframe, si no, imprime el error y retorna None"
   ]
  },
  {
   "cell_type": "markdown",
   "id": "f5bba2a6",
   "metadata": {},
   "source": [
    "### Limpiar datos"
   ]
  },
  {
   "cell_type": "markdown",
   "id": "cd2f3608",
   "metadata": {},
   "source": [
    "Creamos una funcion para limpiar los datos que recibe el dataframe cargado"
   ]
  },
  {
   "cell_type": "code",
   "execution_count": 5,
   "id": "11cfb0bc",
   "metadata": {},
   "outputs": [],
   "source": [
    "def cleaning_data(df: pd.DataFrame):\n",
    "    df.columns = df.columns.str.lower()\n",
    "    df.columns = df.columns.str.replace(' ', '_')\n",
    "    subset = [\"restaurant_name\", \"order_time\", \"delivery_time\" \"order_hour\"]\n",
    "    df.dropna(subset=subset, inplace=True)\n",
    "    df.drop_duplicates(inplace=True)\n",
    "    df[\"order_time\"] = pd.to_datetime(df[\"order_time\"])\n",
    "    df[\"delivery_time\"] = pd.to_datetime(df[\"delivery_time\"])"
   ]
  },
  {
   "cell_type": "markdown",
   "id": "e1f2c817",
   "metadata": {},
   "source": [
    "Primero se encarga de convertir todas los nombres de las columnas a minusculas y reemplaza sus espacios por ( _ ) para que sea mas facil acceder luego a ellas. Despues verificamos que las filas escenciales con las que vamos a trabajar no sean nulas, de ser asi las elimina, luego eliminamos las filas duplicadas y por ultimo todas las columnas de tipo fecha las transformamos a el tipo de dato correcto en pandas, para compatibilidad y mejor organizacion"
   ]
  },
  {
   "cell_type": "markdown",
   "id": "3d3beeaa",
   "metadata": {},
   "source": [
    "### Guardar datos"
   ]
  },
  {
   "cell_type": "markdown",
   "id": "6c21aea5",
   "metadata": {},
   "source": [
    "Este paso consiste en guardar estos datos en una base SQL para su posterior uso (yo usare SQLite3). Esta funcion recibe el dataframe cargado y limpiado y una ruta donde guardar el archivo \".db\" donde se almacenara la DB"
   ]
  },
  {
   "cell_type": "code",
   "execution_count": 6,
   "id": "9b96e5ac",
   "metadata": {},
   "outputs": [],
   "source": [
    "import sqlite3\n",
    "\n",
    "def save_data(df: pd.DataFrame, db_url: str):\n",
    "    with sqlite3.connect(db_url) as conn:\n",
    "        try:\n",
    "            df.to_sql(\"pizza_sell_data\", conn, if_exists=\"replace\", index=False)\n",
    "        except Exception as err:\n",
    "            print(err)\n",
    "            return"
   ]
  },
  {
   "cell_type": "markdown",
   "id": "7e02e209",
   "metadata": {},
   "source": [
    "Simplemente intenta conectarse a la base de datos pasada como argumento (que ya debe estar creada) e intenta convertir el dataframe a una tabla SQL, en caso de error pues imprime el error y retorna None"
   ]
  }
 ],
 "metadata": {
  "kernelspec": {
   "display_name": "Python 3",
   "language": "python",
   "name": "python3"
  },
  "language_info": {
   "codemirror_mode": {
    "name": "ipython",
    "version": 3
   },
   "file_extension": ".py",
   "mimetype": "text/x-python",
   "name": "python",
   "nbconvert_exporter": "python",
   "pygments_lexer": "ipython3",
   "version": "3.13.0"
  }
 },
 "nbformat": 4,
 "nbformat_minor": 5
}
