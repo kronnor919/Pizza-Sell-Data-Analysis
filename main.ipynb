{
 "cells": [
  {
   "cell_type": "markdown",
   "id": "261dc332",
   "metadata": {},
   "source": [
    "### Configurar advertencias"
   ]
  },
  {
   "cell_type": "markdown",
   "id": "463b0aef",
   "metadata": {},
   "source": [
    "Para evitar que salgan advertencias de futuras versiones que no nos interesan"
   ]
  },
  {
   "cell_type": "code",
   "execution_count": 2,
   "id": "68ea7e41",
   "metadata": {},
   "outputs": [],
   "source": [
    "import warnings\n",
    "warnings.filterwarnings('ignore', category=FutureWarning)"
   ]
  }
 ],
 "metadata": {
  "kernelspec": {
   "display_name": "Python 3",
   "language": "python",
   "name": "python3"
  },
  "language_info": {
   "codemirror_mode": {
    "name": "ipython",
    "version": 3
   },
   "file_extension": ".py",
   "mimetype": "text/x-python",
   "name": "python",
   "nbconvert_exporter": "python",
   "pygments_lexer": "ipython3",
   "version": "3.13.0"
  }
 },
 "nbformat": 4,
 "nbformat_minor": 5
}
