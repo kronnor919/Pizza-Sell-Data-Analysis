{
 "cells": [
  {
   "cell_type": "markdown",
   "id": "261dc332",
   "metadata": {},
   "source": [
    "### Configurar advertencias"
   ]
  },
  {
   "cell_type": "markdown",
   "id": "463b0aef",
   "metadata": {},
   "source": [
    "Para evitar que salgan advertencias que no nos interesan"
   ]
  },
  {
   "cell_type": "code",
   "execution_count": 84,
   "id": "68ea7e41",
   "metadata": {},
   "outputs": [],
   "source": [
    "import warnings\n",
    "warnings.filterwarnings('ignore', category=FutureWarning)\n",
    "warnings.filterwarnings('ignore', category=UserWarning)"
   ]
  },
  {
   "cell_type": "markdown",
   "id": "6733fb46",
   "metadata": {},
   "source": [
    "### Importaciones"
   ]
  },
  {
   "cell_type": "code",
   "execution_count": 85,
   "id": "7f9fd1bb",
   "metadata": {},
   "outputs": [],
   "source": [
    "import pandas as pd\n",
    "import sqlite3\n",
    "import os\n",
    "import matplotlib as mpl\n",
    "import matplotlib.pyplot as plt\n",
    "import seaborn as sns\n",
    "\n",
    "mpl.rcParams.update(mpl.rcParamsDefault)\n",
    "sns.set_context('notebook')\n",
    "sns.set_theme()"
   ]
  },
  {
   "cell_type": "markdown",
   "id": "2912a40b",
   "metadata": {},
   "source": [
    "## Preparar los datos"
   ]
  },
  {
   "cell_type": "markdown",
   "id": "4e071a4a",
   "metadata": {},
   "source": [
    "### Cargar datos"
   ]
  },
  {
   "cell_type": "markdown",
   "id": "27f8941f",
   "metadata": {},
   "source": [
    "Vamos a crear una funcion para cargar los datos a un dataframe usando pandas. Un proceso extremadamente sencillo"
   ]
  },
  {
   "cell_type": "code",
   "execution_count": 86,
   "id": "5e13b5d6",
   "metadata": {},
   "outputs": [],
   "source": [
    "def load_data(url: str) -> pd.DataFrame | None:\n",
    "    try:\n",
    "        return pd.read_excel(url)\n",
    "    except Exception as err:\n",
    "        print(f\"Error loading data: {err}\")\n",
    "        return"
   ]
  },
  {
   "cell_type": "markdown",
   "id": "2ba5b380",
   "metadata": {},
   "source": [
    "Si la funcion logra cargar los datos, seran retornados en un Dataframe, si no, imprime el error y retorna None"
   ]
  },
  {
   "cell_type": "markdown",
   "id": "f5bba2a6",
   "metadata": {},
   "source": [
    "### Limpiar datos"
   ]
  },
  {
   "cell_type": "markdown",
   "id": "cd2f3608",
   "metadata": {},
   "source": [
    "Creamos una funcion para limpiar los datos que recibe el dataframe cargado"
   ]
  },
  {
   "cell_type": "code",
   "execution_count": 87,
   "id": "11cfb0bc",
   "metadata": {},
   "outputs": [],
   "source": [
    "def cleaning_data(df: pd.DataFrame):\n",
    "    df.columns = df.columns.str.lower()\n",
    "    df.columns = df.columns.str.replace(' ', '_')\n",
    "    subset = [\"restaurant_name\", \"order_time\", \"delivery_time\", \"order_hour\"]\n",
    "    df.dropna(subset=subset, inplace=True)\n",
    "    df.drop_duplicates(inplace=True)\n",
    "    df[\"order_time\"] = pd.to_datetime(df[\"order_time\"])\n",
    "    df[\"delivery_time\"] = pd.to_datetime(df[\"delivery_time\"])"
   ]
  },
  {
   "cell_type": "markdown",
   "id": "e1f2c817",
   "metadata": {},
   "source": [
    "Primero se encarga de convertir todas los nombres de las columnas a minusculas y reemplaza sus espacios por ( _ ) para que sea mas facil acceder luego a ellas. Despues verificamos que las filas escenciales con las que vamos a trabajar no sean nulas, de ser asi las elimina, luego eliminamos las filas duplicadas y por ultimo todas las columnas de tipo fecha las transformamos a el tipo de dato correcto en pandas, para compatibilidad y mejor organizacion"
   ]
  },
  {
   "cell_type": "markdown",
   "id": "3d3beeaa",
   "metadata": {},
   "source": [
    "### Guardar datos"
   ]
  },
  {
   "cell_type": "markdown",
   "id": "6c21aea5",
   "metadata": {},
   "source": [
    "Este paso consiste en guardar estos datos en una base SQL para su posterior uso (yo usare SQLite3). Esta funcion recibe el dataframe cargado y limpiado y una ruta donde guardar el archivo \".db\" donde se almacenara la DB"
   ]
  },
  {
   "cell_type": "code",
   "execution_count": 88,
   "id": "9b96e5ac",
   "metadata": {},
   "outputs": [],
   "source": [
    "def save_data(df: pd.DataFrame, db_url: str):\n",
    "    with sqlite3.connect(db_url) as conn:\n",
    "        try:\n",
    "            df.to_sql(\"pizza_sell_data\", conn, if_exists=\"replace\", index=False)\n",
    "        except Exception as err:\n",
    "            print(f\"Error saving data: {err}\")\n",
    "            return"
   ]
  },
  {
   "cell_type": "markdown",
   "id": "7e02e209",
   "metadata": {},
   "source": [
    "Simplemente intenta conectarse a la base de datos pasada como argumento (que ya debe estar creada) e intenta convertir el dataframe a una tabla SQL, en caso de error pues imprime el error y retorna None"
   ]
  },
  {
   "cell_type": "markdown",
   "id": "2f2ee560",
   "metadata": {},
   "source": [
    "## Generacion de graficos"
   ]
  },
  {
   "cell_type": "markdown",
   "id": "b43fb9c4",
   "metadata": {},
   "source": [
    "Vamos a crear una funcion que nos sirva para generar los graficos que necesitemos en todo el proyecto de manera simple"
   ]
  },
  {
   "cell_type": "code",
   "execution_count": 89,
   "id": "c9633d2e",
   "metadata": {},
   "outputs": [],
   "source": [
    "def generate_plot(data: pd.DataFrame, title: str, x: str, y: str, kind: str, style: str, palette: str, labels: tuple[str, str], path: str):\n",
    "    try:\n",
    "        plt.figure(figsize=(11, 9))\n",
    "        sns.set_style(style)\n",
    "        if kind == \"bar\":\n",
    "            sns.barplot(data, x=x, y=y, palette=palette)\n",
    "            \n",
    "        plt.title(title)\n",
    "        plt.xlabel(labels[0])\n",
    "        plt.ylabel(labels[1])\n",
    "        plt.xticks(rotation=90)\n",
    "        plt.savefig(os.path.join(path, \"graph.png\"), bbox_inches='tight')\n",
    "        \n",
    "    except Exception as err:\n",
    "        print(f\"Error generating plot: {err}\")\n",
    "        return"
   ]
  },
  {
   "cell_type": "markdown",
   "id": "4d4e2a93",
   "metadata": {},
   "source": [
    "## ETL (Extract, Tranform, Load)"
   ]
  },
  {
   "cell_type": "code",
   "execution_count": 90,
   "id": "a13580a4",
   "metadata": {},
   "outputs": [],
   "source": [
    "data_url = \"Enhanced_pizza_sell_data_2024-25.xlsx\"\n",
    "db_url = \"database.db\"\n",
    "\n",
    "df = load_data(data_url)\n",
    "cleaning_data(df)\n",
    "save_data(df, db_url)"
   ]
  },
  {
   "cell_type": "markdown",
   "id": "b01fd24e",
   "metadata": {},
   "source": [
    "## Reportes"
   ]
  },
  {
   "cell_type": "markdown",
   "id": "7d3fd624",
   "metadata": {},
   "source": [
    "La manera en la que se van a organizar seria:"
   ]
  },
  {
   "cell_type": "markdown",
   "id": "2d45bab1",
   "metadata": {},
   "source": [
    "- Consulta y su ejecucion\n",
    "- Asignar un titulo\n",
    "- Crear y verificar la ruta donde se guardaran los datos\n",
    "- Crear un excel y un grafico del reporte generado en la ruta especificada"
   ]
  },
  {
   "cell_type": "markdown",
   "id": "0ffbc0fe",
   "metadata": {},
   "source": [
    "### Total de pedidos por restaurante"
   ]
  },
  {
   "cell_type": "code",
   "execution_count": 91,
   "id": "dd11cca9",
   "metadata": {},
   "outputs": [],
   "source": [
    "with sqlite3.connect(db_url) as conn:\n",
    "    query = \"\"\"\n",
    "    SELECT restaurant_name, COUNT(*) as orders\n",
    "    FROM pizza_sell_data\n",
    "    GROUP BY restaurant_name\n",
    "    ORDER BY orders DESC\n",
    "    \"\"\"\n",
    "    report = pd.read_sql_query(query, conn)\n",
    "    title = \"Pedidos por restaurante\"\n",
    "    \n",
    "    path = os.path.join(\"reports\", title.replace(' ', '-'))\n",
    "    if not os.path.exists(path): os.mkdir(path)\n",
    "    \n",
    "    report.to_excel(os.path.join(path, \"Data.xlsx\"), index=False)\n",
    "    \n",
    "    generate_plot(report, title, \"restaurant_name\", \"orders\", \n",
    "                  \"bar\", \"darkgrid\", \"deep\", (\"Restaurantes\", \"Pedidos\"), path)"
   ]
  }
 ],
 "metadata": {
  "kernelspec": {
   "display_name": "Python 3",
   "language": "python",
   "name": "python3"
  },
  "language_info": {
   "codemirror_mode": {
    "name": "ipython",
    "version": 3
   },
   "file_extension": ".py",
   "mimetype": "text/x-python",
   "name": "python",
   "nbconvert_exporter": "python",
   "pygments_lexer": "ipython3",
   "version": "3.13.0"
  }
 },
 "nbformat": 4,
 "nbformat_minor": 5
}
